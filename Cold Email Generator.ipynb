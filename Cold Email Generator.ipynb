{
 "cells": [
  {
   "cell_type": "code",
   "execution_count": 2,
   "id": "cf2a3dbd-d04a-4cd6-9dfb-17f918ec950d",
   "metadata": {},
   "outputs": [
    {
     "name": "stdout",
     "output_type": "stream",
     "text": [
      "The first person to land on the moon was Neil Armstrong. He stepped out of the lunar module Eagle and onto the moon's surface on July 20, 1969, during the Apollo 11 mission. Armstrong famously declared, \"That's one small step for man, one giant leap for mankind,\" as he became the first human to set foot on the moon.\n"
     ]
    }
   ],
   "source": [
    "from langchain_groq import ChatGroq\n",
    "\n",
    "llm = ChatGroq(\n",
    "    \n",
    "    temperature=0,\n",
    "    groq_api_key ='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',\n",
    "    model_name=\"llama-3.1-70b-versatile\"\n",
    "    # other params...\n",
    ")\n",
    "response = llm.invoke(\"The first person to land on moon\")\n",
    "print(response.content)"
   ]
  },
  {
   "cell_type": "code",
   "execution_count": 3,
   "id": "1fb7f04d-8af8-4ebd-93f8-07edea8d3849",
   "metadata": {},
   "outputs": [
    {
     "name": "stderr",
     "output_type": "stream",
     "text": [
      "USER_AGENT environment variable not set, consider setting it to identify your requests.\n"
     ]
    }
   ],
   "source": [
    "from langchain_community.document_loaders import WebBaseLoader\n",
    "loader = WebBaseLoader(\"https://jobs.nike.com/job/R-38694?from=job%20search%20funnel\")"
   ]
  },
  {
   "cell_type": "code",
   "execution_count": 4,
   "id": "0ba4b231-c145-4d23-a6df-dbca0bfa7c48",
   "metadata": {},
   "outputs": [
    {
     "name": "stdout",
     "output_type": "stream",
     "text": [
      "Apply for Entry - ML Engineer (Remote Work Option)\n",
      "\n",
      "Search JobsSkip navigationSearch JobsNIKE, INC. JOBSContract JobsJoin The Talent CommunityLife @ NikeOverviewBenefitsBrandsOverviewJordanConverseTeamsOverviewAdministrative SupportAdvanced InnovationAir Manufacturing InnovationAviationCommunicationsCustomer ServiceDesignDigitalFacilitiesFinance & AccountingGovernment & Public AffairsHuman ResourcesInsights & AnalyticsLegalManufacturing & EngineeringMarketingMerchandisingPlanningPrivacyProcurementProduct Creation, Development & ManagementRetail CorporateRetail StoresSalesSocial & Community ImpactSports MarketingStrategic PlanningSupply Chain, Distribution & LogisticsSustainabilityTechnologyLocationsOverviewNike WHQNike New York HQEHQ: Hilversum, The NetherlandsELC: Laakdal, BelgiumGreater China HQDiversity, Equity & InclusionOverviewMilitary InclusionDisability InclusionIndigenous InclusionInternshipsData & AnalyticsEntry - ML Engineer (Remote Work Option)Beaverton, OregonBecome a Part of the NIKE, Inc. Team\n",
      "NIKE, Inc. does more than outfit the world’s best athletes. It is a place to explore potential, obliterate boundaries and push out the edges of what can be. The company looks for people who can grow, think, dream and create. Its culture thrives by embracing diversity and rewarding imagination. The brand seeks achievers, leaders and visionaries. At NIKE, Inc. it’s about each person bringing skills and passion to a challenging and constantly evolving game.Open to remote work except in South Dakota, Vermont and West Virginia.The annual base salary for this position ranges from $69,100.00 in our lowest geographic market to $154,900.00 in our highest geographic market. Actual salary will vary based on a candidate's location, qualifications, skills and experience.Information about benefits can be found here. Who are we looking forWe are actively seeking to hire a Entry Level Machine Learning Engineers to join our AI/ML team. As a Machine Learning Engineer within the AI/ML team, you will be developing advanced analytics systems that directly impact our business. You will work on a cross-disciplinary team (data/API/infra/infosec/ML) to enable data-driven decision making across multiple organizations.Working at the intersection of machine learning and software engineering (i.e., MLOps), you’ll create high-quality solutions that power Nike. You will work with others who are energized by the challenge of building things from the ground up, thinking out of the box, and applying the latest technologies in statistical, unsupervised, supervised, and machine learning models at global scale.Our teams enjoy a collaborative and academic environment that promotes developing new skills, mentorship, and a drive to deliver knowledge and software back to analytics and engineering communities, within and Nike and without. This culture is cultivated by intellectual curiosity, fun, openness, and diversity.Sound like you?Who will you work withAI/ML is one of the key groups within Data and Analytics. We’re chartered to scale machine learning and AI at Nike. For areas of the business early in their analytics journey, we embed cross-disciplinary teams of data scientists and engineers to unlock new capabilities and answer unsolved (or unasked!) questions. In mature areas with pre-existing data science teams, we help scale machine learning by attaching engineering squads to grow their capacity to deliver for the business. In addition, we collaborate closely with platform and architecture partners to develop capabilities that simplify machine learning at scale within Nike (e.g. model management, A/B testing, feature stores).Essential Job Functions:Serve as an integral member of a multi-functional engineering teams that delivers solutions unlocking machine learning for Nike. You will analyze and profile data to uncover insights in support of scalable solutions, clean, prepare and verify the integrity of data for analysis and model creation. You’ll also track model accuracy, performance, relevance, and reliability. You will apply a variety of machine learning and collaborative filtering methods to data sets. You will aid in building APIs and software libraries that support adoption of models in productionLeverage your prior experience, knowledge of industry trends, and personal creativity to develop new and innovative solutions which delight our customers in their mission to serve Athletes*.Stay ahead of with industry trends and recommend relevant technologies & products in the areas of Analytics, Machine Learning, Artificial Intelligence, and Data Science tools and other emerging technologies. Given the rapid pace of change in technology and machine learning today, always be pushing the boundary of what’s possible and be on the offense always.Embrace and embody Nike’s core values (Maxims) in your work and interactions with peers and stakeholders. Communicate effectively, building trust and strong relationships across the company, do the right thing.What you bring to NikeBachelor’s degree or a combination of relevant education, training, and experiencein the field of ML Engineering or Software EngineeringOne year of experience preferredUnderstanding of Machine Learning, its applications, and the lifecycle of an ML application in production; including an ability to articulate the role of MLOps in model development from experimentation to production and measurementAn ability to meaningfully communicate, written, orally, and visually technical topics with peers and articulate the benefits and tradeoffs of various solutionsExperience working in and/or collaborating with a partial or fully distributed teamStrong experiential understanding of data structures, algorithms, and data solutionsExperience in applying Python (or another language commonly used in the field of ML, such as Scala, Julia, C++) and SQL to ML and/or software and data engineering tasksFamiliarity with ETL, ML, or analytics technologies such as Scikit-learn, Dask, TensorFlow, Kubeflow, Spark, EMR, or similar platforms and frameworksAwareness of data science platforms (like Databricks or SageMaker), distributed engines (like Spark and AWS cloud), and CI/CD pipelines and containerization are preferredFluency in the application of open-source technologies and the potential of standardized platforms in the area of Data Science, AI, & ML.Nice to have: an interest in the potential of Generative AI to accelerate common development and data science tasks, or the deployment of Generative AI solutions in the enterpriseNIKE, Inc. is a growth company that looks for team members to grow with it. Nike offers a generous total rewards package, casual work environment, a diverse and inclusive culture, and an electric atmosphere for professional development. No matter the location, or the role, every Nike employee shares one galvanizing mission: To bring inspiration and innovation to every athlete* in the world.NIKE, Inc. is committed to employing a diverse workforce. Qualified applicants will receive consideration without regard to race, color, religion, sex, national origin, age, sexual orientation, gender identity, gender expression, veteran status, or disability.How We HireAt NIKE, Inc. we promise to provide a premium, inclusive, compelling and authentic candidate experience. Delivering on this promise means we allow you to be at your best — and to do that, you need to understand how the hiring process works. Transparency is key.\n",
      "\n",
      "* This overview explains our hiring process for corporate roles. Note there may be different hiring steps involved for non-corporate roles.Start nowBenefitsWhether it’s transportation or financial health, we continually invest in our employees to help them achieve greatness — inside and outside of work. All who work here should be able to realize their full potential.Employee Assistance ProgramEmployee Stock Purchase Plan (ESPP)HolidaysMedical PlanPaid Time Off (PTO)Product DiscountsSabbaticalsLearn moreFIND A STOREBECOME A MEMBERSIGN UP FOR EMAILSEND US FEEDBACKSTUDENT DISCOUNTSGET HELPGET HELPOrder StatusDeliveryReturnsPayment OptionsContact Us On Nike.com InquiriesContact Us On All Other InquiriesABOUT NIKEABOUT NIKENewsCareersInvestorsSustainabilityIndia© 2024 Nike, Inc. All Rights ReservedGuidesNike AdaptNike Air MaxNike FlyleatherNike PegasusNike Zoom FlyNike AirNike FlyEaseNike FreeNike ReactNike ZoomXNike Air Force 1Nike FlyknitNike JoyrideNike VaporflyTerms of SaleTerms of UseNike Privacy Policy\n"
     ]
    }
   ],
   "source": [
    "page_content = loader.load().pop().page_content\n",
    "print(page_content)"
   ]
  },
  {
   "cell_type": "code",
   "execution_count": 5,
   "id": "feec67a4-c5b3-4500-9baf-2fa2fd8d8acd",
   "metadata": {},
   "outputs": [
    {
     "name": "stdout",
     "output_type": "stream",
     "text": [
      "```json\n",
      "{\n",
      "  \"role\": \"Entry - ML Engineer (Remote Work Option)\",\n",
      "  \"experience\": \"One year of experience preferred\",\n",
      "  \"skills\": [\n",
      "    \"Machine Learning\",\n",
      "    \"Software Engineering\",\n",
      "    \"Python\",\n",
      "    \"SQL\",\n",
      "    \"ETL\",\n",
      "    \"Scikit-learn\",\n",
      "    \"Dask\",\n",
      "    \"TensorFlow\",\n",
      "    \"Kubeflow\",\n",
      "    \"Spark\",\n",
      "    \"EMR\",\n",
      "    \"Databricks\",\n",
      "    \"SageMaker\",\n",
      "    \"CI/CD pipelines\",\n",
      "    \"containerization\",\n",
      "    \"Generative AI\"\n",
      "  ],\n",
      "  \"description\": \"We are actively seeking to hire a Entry Level Machine Learning Engineers to join our AI/ML team. As a Machine Learning Engineer within the AI/ML team, you will be developing advanced analytics systems that directly impact our business. You will work on a cross-disciplinary team (data/API/infra/infosec/ML) to enable data-driven decision making across multiple organizations.\"\n",
      "}\n",
      "```\n"
     ]
    }
   ],
   "source": [
    "from langchain_core.prompts import PromptTemplate\n",
    "prompt_extract = PromptTemplate.from_template(\n",
    "    \"\"\"\n",
    "    ### SCRAPED TEXT FROM WEBSITE :\n",
    "    {page_content}\n",
    "    ### INSTRUCTION\n",
    "    The scraped text is from a career's page of a website.\n",
    "    Your job is to extract the job postings and return them in json format containing following keys:'role','experience','skills' and 'description'\n",
    "    only return the valid JSON \n",
    "    ### VALID JSON (NO PREAMBLE):\n",
    "    \"\"\"\n",
    ")\n",
    "chain_extract=prompt_extract | llm\n",
    "res = chain_extract.invoke(input={'page_content':page_content})\n",
    "print(res.content)"
   ]
  },
  {
   "cell_type": "code",
   "execution_count": 6,
   "id": "bc531a1b-6062-4444-ab8b-029dd9752362",
   "metadata": {},
   "outputs": [
    {
     "data": {
      "text/plain": [
       "{'role': 'Entry - ML Engineer (Remote Work Option)',\n",
       " 'experience': 'One year of experience preferred',\n",
       " 'skills': ['Machine Learning',\n",
       "  'Software Engineering',\n",
       "  'Python',\n",
       "  'SQL',\n",
       "  'ETL',\n",
       "  'Scikit-learn',\n",
       "  'Dask',\n",
       "  'TensorFlow',\n",
       "  'Kubeflow',\n",
       "  'Spark',\n",
       "  'EMR',\n",
       "  'Databricks',\n",
       "  'SageMaker',\n",
       "  'CI/CD pipelines',\n",
       "  'containerization',\n",
       "  'Generative AI'],\n",
       " 'description': 'We are actively seeking to hire a Entry Level Machine Learning Engineers to join our AI/ML team. As a Machine Learning Engineer within the AI/ML team, you will be developing advanced analytics systems that directly impact our business. You will work on a cross-disciplinary team (data/API/infra/infosec/ML) to enable data-driven decision making across multiple organizations.'}"
      ]
     },
     "execution_count": 6,
     "metadata": {},
     "output_type": "execute_result"
    }
   ],
   "source": [
    "from langchain_core.output_parsers import JsonOutputParser\n",
    "\n",
    "json_parser = JsonOutputParser()\n",
    "json_res = json_parser.parse(res.content)\n",
    "json_res"
   ]
  },
  {
   "cell_type": "code",
   "execution_count": 7,
   "id": "5dd2d359-232e-458c-9c5a-371eed0daf58",
   "metadata": {},
   "outputs": [
    {
     "data": {
      "text/html": [
       "<div>\n",
       "<style scoped>\n",
       "    .dataframe tbody tr th:only-of-type {\n",
       "        vertical-align: middle;\n",
       "    }\n",
       "\n",
       "    .dataframe tbody tr th {\n",
       "        vertical-align: top;\n",
       "    }\n",
       "\n",
       "    .dataframe thead th {\n",
       "        text-align: right;\n",
       "    }\n",
       "</style>\n",
       "<table border=\"1\" class=\"dataframe\">\n",
       "  <thead>\n",
       "    <tr style=\"text-align: right;\">\n",
       "      <th></th>\n",
       "      <th>Techstack</th>\n",
       "      <th>Links</th>\n",
       "    </tr>\n",
       "  </thead>\n",
       "  <tbody>\n",
       "    <tr>\n",
       "      <th>0</th>\n",
       "      <td>React, Node.js, MongoDB</td>\n",
       "      <td>https://example.com/react-portfolio</td>\n",
       "    </tr>\n",
       "    <tr>\n",
       "      <th>1</th>\n",
       "      <td>Angular,.NET, SQL Server</td>\n",
       "      <td>https://example.com/angular-portfolio</td>\n",
       "    </tr>\n",
       "    <tr>\n",
       "      <th>2</th>\n",
       "      <td>Vue.js, Ruby on Rails, PostgreSQL</td>\n",
       "      <td>https://example.com/vue-portfolio</td>\n",
       "    </tr>\n",
       "    <tr>\n",
       "      <th>3</th>\n",
       "      <td>Python, Django, MySQL</td>\n",
       "      <td>https://example.com/python-portfolio</td>\n",
       "    </tr>\n",
       "    <tr>\n",
       "      <th>4</th>\n",
       "      <td>Java, Spring Boot, Oracle</td>\n",
       "      <td>https://example.com/java-portfolio</td>\n",
       "    </tr>\n",
       "    <tr>\n",
       "      <th>5</th>\n",
       "      <td>Flutter, Firebase, GraphQL</td>\n",
       "      <td>https://example.com/flutter-portfolio</td>\n",
       "    </tr>\n",
       "    <tr>\n",
       "      <th>6</th>\n",
       "      <td>WordPress, PHP, MySQL</td>\n",
       "      <td>https://example.com/wordpress-portfolio</td>\n",
       "    </tr>\n",
       "    <tr>\n",
       "      <th>7</th>\n",
       "      <td>Magento, PHP, MySQL</td>\n",
       "      <td>https://example.com/magento-portfolio</td>\n",
       "    </tr>\n",
       "    <tr>\n",
       "      <th>8</th>\n",
       "      <td>React Native, Node.js, MongoDB</td>\n",
       "      <td>https://example.com/react-native-portfolio</td>\n",
       "    </tr>\n",
       "    <tr>\n",
       "      <th>9</th>\n",
       "      <td>iOS, Swift, Core Data</td>\n",
       "      <td>https://example.com/ios-portfolio</td>\n",
       "    </tr>\n",
       "    <tr>\n",
       "      <th>10</th>\n",
       "      <td>Android, Java, Room Persistence</td>\n",
       "      <td>https://example.com/android-portfolio</td>\n",
       "    </tr>\n",
       "    <tr>\n",
       "      <th>11</th>\n",
       "      <td>Kotlin, Android, Firebase</td>\n",
       "      <td>https://example.com/kotlin-android-portfolio</td>\n",
       "    </tr>\n",
       "    <tr>\n",
       "      <th>12</th>\n",
       "      <td>Android TV, Kotlin, Android NDK</td>\n",
       "      <td>https://example.com/android-tv-portfolio</td>\n",
       "    </tr>\n",
       "    <tr>\n",
       "      <th>13</th>\n",
       "      <td>iOS, Swift, ARKit</td>\n",
       "      <td>https://example.com/ios-ar-portfolio</td>\n",
       "    </tr>\n",
       "    <tr>\n",
       "      <th>14</th>\n",
       "      <td>Cross-platform, Xamarin, Azure</td>\n",
       "      <td>https://example.com/xamarin-portfolio</td>\n",
       "    </tr>\n",
       "    <tr>\n",
       "      <th>15</th>\n",
       "      <td>Backend, Kotlin, Spring Boot</td>\n",
       "      <td>https://example.com/kotlin-backend-portfolio</td>\n",
       "    </tr>\n",
       "    <tr>\n",
       "      <th>16</th>\n",
       "      <td>Frontend, TypeScript, Angular</td>\n",
       "      <td>https://example.com/typescript-frontend-portfolio</td>\n",
       "    </tr>\n",
       "    <tr>\n",
       "      <th>17</th>\n",
       "      <td>Full-stack, JavaScript, Express.js</td>\n",
       "      <td>https://example.com/full-stack-js-portfolio</td>\n",
       "    </tr>\n",
       "    <tr>\n",
       "      <th>18</th>\n",
       "      <td>Machine Learning, Python, TensorFlow</td>\n",
       "      <td>https://example.com/ml-python-portfolio</td>\n",
       "    </tr>\n",
       "    <tr>\n",
       "      <th>19</th>\n",
       "      <td>DevOps, Jenkins, Docker</td>\n",
       "      <td>https://example.com/devops-portfolio</td>\n",
       "    </tr>\n",
       "  </tbody>\n",
       "</table>\n",
       "</div>"
      ],
      "text/plain": [
       "                               Techstack  \\\n",
       "0                React, Node.js, MongoDB   \n",
       "1               Angular,.NET, SQL Server   \n",
       "2      Vue.js, Ruby on Rails, PostgreSQL   \n",
       "3                  Python, Django, MySQL   \n",
       "4              Java, Spring Boot, Oracle   \n",
       "5             Flutter, Firebase, GraphQL   \n",
       "6                  WordPress, PHP, MySQL   \n",
       "7                    Magento, PHP, MySQL   \n",
       "8         React Native, Node.js, MongoDB   \n",
       "9                  iOS, Swift, Core Data   \n",
       "10       Android, Java, Room Persistence   \n",
       "11             Kotlin, Android, Firebase   \n",
       "12       Android TV, Kotlin, Android NDK   \n",
       "13                     iOS, Swift, ARKit   \n",
       "14        Cross-platform, Xamarin, Azure   \n",
       "15          Backend, Kotlin, Spring Boot   \n",
       "16         Frontend, TypeScript, Angular   \n",
       "17    Full-stack, JavaScript, Express.js   \n",
       "18  Machine Learning, Python, TensorFlow   \n",
       "19               DevOps, Jenkins, Docker   \n",
       "\n",
       "                                                Links  \n",
       "0                 https://example.com/react-portfolio  \n",
       "1               https://example.com/angular-portfolio  \n",
       "2                   https://example.com/vue-portfolio  \n",
       "3                https://example.com/python-portfolio  \n",
       "4                  https://example.com/java-portfolio  \n",
       "5               https://example.com/flutter-portfolio  \n",
       "6             https://example.com/wordpress-portfolio  \n",
       "7               https://example.com/magento-portfolio  \n",
       "8          https://example.com/react-native-portfolio  \n",
       "9                   https://example.com/ios-portfolio  \n",
       "10              https://example.com/android-portfolio  \n",
       "11       https://example.com/kotlin-android-portfolio  \n",
       "12           https://example.com/android-tv-portfolio  \n",
       "13               https://example.com/ios-ar-portfolio  \n",
       "14              https://example.com/xamarin-portfolio  \n",
       "15       https://example.com/kotlin-backend-portfolio  \n",
       "16  https://example.com/typescript-frontend-portfolio  \n",
       "17        https://example.com/full-stack-js-portfolio  \n",
       "18            https://example.com/ml-python-portfolio  \n",
       "19               https://example.com/devops-portfolio  "
      ]
     },
     "execution_count": 7,
     "metadata": {},
     "output_type": "execute_result"
    }
   ],
   "source": [
    "import pandas as pd\n",
    "df = pd.read_csv(\"my_portfolio.csv\")\n",
    "df"
   ]
  },
  {
   "cell_type": "code",
   "execution_count": 8,
   "id": "f76155ce-2d0e-4e98-8b01-d9fea5215812",
   "metadata": {},
   "outputs": [],
   "source": [
    "import uuid\n",
    "import chromadb\n",
    "\n",
    "client = chromadb.PersistentClient('vectorstore')\n",
    "collection = client.get_or_create_collection(name=\"portfolio\")\n",
    "\n",
    "if not collection.count():\n",
    "    for _, row in df.iterrows():\n",
    "        collection.add(documents=row[\"Techstack\"],\n",
    "                       metadatas={\"links\": row[\"Links\"]},\n",
    "                       ids=[str(uuid.uuid4())])"
   ]
  },
  {
   "cell_type": "code",
   "execution_count": 9,
   "id": "af59730d-491d-49ad-b298-d1b2355b411d",
   "metadata": {},
   "outputs": [
    {
     "data": {
      "text/plain": [
       "['Machine Learning',\n",
       " 'Software Engineering',\n",
       " 'Python',\n",
       " 'SQL',\n",
       " 'ETL',\n",
       " 'Scikit-learn',\n",
       " 'Dask',\n",
       " 'TensorFlow',\n",
       " 'Kubeflow',\n",
       " 'Spark',\n",
       " 'EMR',\n",
       " 'Databricks',\n",
       " 'SageMaker',\n",
       " 'CI/CD pipelines',\n",
       " 'containerization',\n",
       " 'Generative AI']"
      ]
     },
     "execution_count": 9,
     "metadata": {},
     "output_type": "execute_result"
    }
   ],
   "source": [
    "job=json_res\n",
    "job['skills']"
   ]
  },
  {
   "cell_type": "code",
   "execution_count": 10,
   "id": "2d139a21-0c91-474a-af59-415e545634ff",
   "metadata": {},
   "outputs": [
    {
     "data": {
      "text/plain": [
       "[[{'links': 'https://example.com/ml-python-portfolio'}],\n",
       " [{'links': 'https://example.com/ml-python-portfolio'}],\n",
       " [{'links': 'https://example.com/ml-python-portfolio'}],\n",
       " [{'links': 'https://example.com/magento-portfolio'}],\n",
       " [{'links': 'https://example.com/ml-python-portfolio'}],\n",
       " [{'links': 'https://example.com/ml-python-portfolio'}],\n",
       " [{'links': 'https://example.com/full-stack-js-portfolio'}],\n",
       " [{'links': 'https://example.com/ml-python-portfolio'}],\n",
       " [{'links': 'https://example.com/devops-portfolio'}],\n",
       " [{'links': 'https://example.com/kotlin-android-portfolio'}],\n",
       " [{'links': 'https://example.com/devops-portfolio'}],\n",
       " [{'links': 'https://example.com/flutter-portfolio'}],\n",
       " [{'links': 'https://example.com/ml-python-portfolio'}],\n",
       " [{'links': 'https://example.com/devops-portfolio'}],\n",
       " [{'links': 'https://example.com/devops-portfolio'}],\n",
       " [{'links': 'https://example.com/ml-python-portfolio'}]]"
      ]
     },
     "execution_count": 10,
     "metadata": {},
     "output_type": "execute_result"
    }
   ],
   "source": [
    "links = collection.query(query_texts=job['skills'], n_results=1).get('metadatas', [])\n",
    "links"
   ]
  },
  {
   "cell_type": "code",
   "execution_count": 11,
   "id": "28cfb9c0-2efd-47ed-ac03-6be337f938fc",
   "metadata": {},
   "outputs": [
    {
     "name": "stdout",
     "output_type": "stream",
     "text": [
      "Subject: Expert Machine Learning Engineers for Your AI/ML Team\n",
      "\n",
      "Dear Hiring Manager,\n",
      "\n",
      "I came across your job posting for an Entry-Level Machine Learning Engineer, and I'm excited to introduce you to AIQoD, a leading AI & Software Consulting company. We specialize in providing top-notch talent and tailored solutions to empower businesses like yours.\n",
      "\n",
      "Our team of expert Machine Learning Engineers has extensive experience in developing advanced analytics systems, leveraging technologies like Python, Scikit-learn, TensorFlow, and Kubeflow. We've successfully delivered projects involving ETL, containerization, and CI/CD pipelines, ensuring seamless integration and scalability.\n",
      "\n",
      "I'd like to highlight a few relevant projects from our portfolio that demonstrate our capabilities:\n",
      "\n",
      "* [https://example.com/ml-python-portfolio](https://example.com/ml-python-portfolio) - A machine learning-based predictive maintenance solution for a manufacturing client, utilizing Python, Scikit-learn, and TensorFlow.\n",
      "* [https://example.com/devops-portfolio](https://example.com/devops-portfolio) - A DevOps implementation for a fintech company, involving containerization, CI/CD pipelines, and Kubeflow.\n",
      "* [https://example.com/ml-python-portfolio](https://example.com/ml-python-portfolio) - A natural language processing-based chatbot for a healthcare client, built using Python, TensorFlow, and Generative AI.\n",
      "\n",
      "Our team is well-versed in working on cross-disciplinary projects, collaborating with data, API, infrastructure, and infosec teams to enable data-driven decision-making. We're confident that our expertise will align with your requirements and contribute to the success of your AI/ML team.\n",
      "\n",
      "If you're interested in discussing how AIQoD can support your hiring needs, I'd be happy to schedule a call at your convenience.\n",
      "\n",
      "Best regards,\n",
      "\n",
      "Hemant Koli\n",
      "Business Development Executive\n",
      "AIQoD, Pune\n"
     ]
    }
   ],
   "source": [
    "prompt_email = PromptTemplate.from_template(\n",
    "        \"\"\"\n",
    "        ### JOB DESCRIPTION:\n",
    "        {job_description}\n",
    "        \n",
    "        ### INSTRUCTION:\n",
    "        You are Hemant Koli, a business development executive at AIQoD. AIQoD is an AI & Software Consulting company dedicated to facilitating\n",
    "        the seamless integration of business processes through automated tools. \n",
    "        Over our experience, we have empowered numerous enterprises with tailored solutions, fostering scalability, \n",
    "        process optimization, cost reduction, and heightened overall efficiency. \n",
    "        Your job is to write a cold email to the client regarding the job mentioned above describing the capability of AtliQ \n",
    "        in fulfilling their needs.\n",
    "        Also add the most relevant ones from the following links to showcase AIQoD portfolio: {link_list}\n",
    "        Remember you are Hemant, BDE at AIQoD, Pune. \n",
    "        Do not provide a preamble.\n",
    "        ### EMAIL (NO PREAMBLE):\n",
    "        \n",
    "        \"\"\"\n",
    "        )\n",
    "\n",
    "chain_email = prompt_email | llm\n",
    "res = chain_email.invoke({\"job_description\": str(job), \"link_list\": links})\n",
    "print(res.content)"
   ]
  },
  {
   "cell_type": "code",
   "execution_count": null,
   "id": "9cb9f19f-7b29-404c-b3a8-d5cf063545a3",
   "metadata": {},
   "outputs": [],
   "source": []
  }
 ],
 "metadata": {
  "kernelspec": {
   "display_name": "Python 3 (ipykernel)",
   "language": "python",
   "name": "python3"
  },
  "language_info": {
   "codemirror_mode": {
    "name": "ipython",
    "version": 3
   },
   "file_extension": ".py",
   "mimetype": "text/x-python",
   "name": "python",
   "nbconvert_exporter": "python",
   "pygments_lexer": "ipython3",
   "version": "3.12.2"
  }
 },
 "nbformat": 4,
 "nbformat_minor": 5
}
